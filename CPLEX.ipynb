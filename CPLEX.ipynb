{
 "cells": [
  {
   "cell_type": "code",
   "execution_count": 3,
   "metadata": {
    "ExecuteTime": {
     "end_time": "2020-04-01T10:51:56.474714Z",
     "start_time": "2020-04-01T10:51:55.183425Z"
    }
   },
   "outputs": [],
   "source": [
    "import numpy as np\n",
    "try:\n",
    "    from docplex.mp.model import Model\n",
    "except:\n",
    "    !pip install docplex\n",
    "from docplex.mp.model import Model\n",
    "\n",
    "import pandas as pd\n",
    "\n",
    "try:\n",
    "    import ipywidgets\n",
    "except:\n",
    "    !pip install ipywidgets\n",
    "from ipywidgets import interact\n",
    "import ipywidgets as widgets\n",
    "import time"
   ]
  },
  {
   "cell_type": "code",
   "execution_count": 1,
   "metadata": {
    "ExecuteTime": {
     "end_time": "2020-04-01T10:51:56.484688Z",
     "start_time": "2020-04-01T10:51:56.476709Z"
    }
   },
   "outputs": [],
   "source": [
    "# Number of nurses\n",
    "N = 15 #arbitrary data\n",
    "nurses = ['Enfermera_' +str(n) for n in range(N)]\n",
    "# period of days that we want to schedule\n",
    "T = 7 #one week\n",
    "days = ['Dia_' +str(t) for t in range(T)]\n",
    "# Shifts assuming 3 types of shifts\n",
    "S = ['Mañana', 'Tarde', 'Noche']\n",
    "# number of nurses required per shift\n",
    "R = {'Mañana' : 5,\n",
    "     'Tarde' : 4,\n",
    "     'Noche' : 3}\n",
    "# Weights assigned to each shift\n",
    "W = {'Mañana' : 10,\n",
    "     'Tarde' : 10,\n",
    "     'Noche' : 10}"
   ]
  },
  {
   "cell_type": "code",
   "execution_count": null,
   "metadata": {},
   "outputs": [],
   "source": [
    "# Temporary variables that could fix the work of certain data\n",
    "days2 = ['Dia_' +str(t+1) for t in range(T-1)]\n",
    "days3 = ['Dia_' +str(t) for t in range(6)]"
   ]
  },
  {
   "cell_type": "code",
   "execution_count": null,
   "metadata": {},
   "outputs": [],
   "source": [
    "mdl = Model('Scheduling')\n",
    "# Create variables\n",
    "idx_x = [(i,s,t) for i in nurses for s in S for t in days]\n",
    "idd=[(s) for s in S]\n",
    "x = mdl.binary_var_dict(idx_x) #Dictionary with days, personnel name and corresponding shift\n",
    "D_dif = mdl.continuous_var #Difference between the maximum and minimum of day shifts worked\n",
    "E_dif = mdl.continuous_var #Difference between the maximum and minimum of evening shifts worked\n",
    "N_dif = mdl.continuous_var #Difference between the maximum and minimum night shifts worked\n",
    "O_dif = mdl.continuous_var #Difference between the maximum and minimum of days off\n",
    "mini = mdl.continuous_var_dict(idd) #Minimum number of shifts assigned to nurses in the calendar\n",
    "maxi = mdl.continuous_var_dict(idd) #Maximum number of shifts assigned to nurses in the calendar"
   ]
  },
  {
   "cell_type": "markdown",
   "metadata": {},
   "source": [
    "## Optimization model \n",
    "\n",
    "\\begin{equation*}\n",
    "\\begin{aligned}\n",
    "& \\underset{x_{ist}\\in\\{0,1\\}}{\\text{min}}(\\sum _{s \\in S }(( \\underset{i \\in 0,1,\\ldots , N}{\\max}\\sum_{t=1}^T x_{ist}-\\underset{i \\in 0,1,\\ldots , N}{\\min}\\sum_{t=1}^T x_{ist})\\cdot W(s)))\\\\\n",
    "\\end{aligned}\n",
    "\\end{equation*}"
   ]
  },
  {
   "cell_type": "code",
   "execution_count": 4,
   "metadata": {
    "ExecuteTime": {
     "end_time": "2020-04-01T10:51:56.568516Z",
     "start_time": "2020-04-01T10:51:56.486710Z"
    }
   },
   "outputs": [],
   "source": [
    "mdl.minimize(mdl.sum(maxi[s]-mini[s]*W[s] for s in S)) \n",
    "#mdl.minimize(mdl.sum(x[i,s,t]*W[s] for i in nurses for s in S for t in days))#Intento tipo 1 minimizar diferencia entre maximos y minimos con peso"
   ]
  },
  {
   "cell_type": "code",
   "execution_count": 5,
   "metadata": {
    "ExecuteTime": {
     "end_time": "2020-04-01T10:51:56.581919Z",
     "start_time": "2020-04-01T10:51:56.573463Z"
    }
   },
   "outputs": [],
   "source": [
    "#El perrsonal no puede tener más de un turno al día\n",
    "mdl.add_constraints(mdl.sum(x[i,s,t] for s in S) <= 1 for i in nurses for t in days);\n",
    "#Se cumple con tener el personal asignado para cada turno del día\n",
    "mdl.add_constraints(mdl.sum(x[i,s,t] for i in nurses)>= R[s]  for s in S for t in days);\n",
    "#No se trabaja un día si se trabaja una noche el día anterior.\n",
    "mdl.add_constraints(mdl.sum(x[i,'Mañana',t] for i in nurses for t in days)-1 <= x[i,'Noche',t] for i in nurses for t in days2);\n",
    "#Cada integrante del personal no trabaja más de una cantidad especifica de noches\n",
    "mdl.add_constraints( mdl.sum(x[i,'Noche',t] for i in nurses)<= 6 for t in days ); "
   ]
  },
  {
   "cell_type": "code",
   "execution_count": 7,
   "metadata": {
    "ExecuteTime": {
     "end_time": "2020-04-01T10:51:56.655686Z",
     "start_time": "2020-04-01T10:51:56.629130Z"
    }
   },
   "outputs": [],
   "source": [
    "mdl.add_kpi(mdl.max(mdl.sum(x[i,s,t]*h[s] for s in S for t in days)for i in nurses), 'Maximum # hours worked')\n",
    "mdl.add_kpi(mdl.min(mdl.sum(x[i,s,t]*h[s] for s in S for t in days)for i in nurses), 'Minimum # hours worked');"
   ]
  },
  {
   "cell_type": "markdown",
   "metadata": {},
   "source": [
    "### Solve the problem"
   ]
  },
  {
   "cell_type": "code",
   "execution_count": 8,
   "metadata": {
    "ExecuteTime": {
     "end_time": "2020-04-01T10:51:56.741115Z",
     "start_time": "2020-04-01T10:51:56.658643Z"
    },
    "scrolled": true
   },
   "outputs": [
    {
     "name": "stdout",
     "output_type": "stream",
     "text": [
      "Model: Scheduling\n",
      " - number of variables: 345\n",
      "   - binary=315, integer=0, continuous=30\n",
      " - number of constraints: 276\n",
      "   - linear=276\n",
      " - parameters: defaults\n",
      " - objective: minimize\n",
      " - problem type is: MILP\n"
     ]
    },
    {
     "data": {
      "text/plain": [
       "docplex.mp.SolveDetails(time=0.063,status='integer optimal solution')"
      ]
     },
     "execution_count": 8,
     "metadata": {},
     "output_type": "execute_result"
    }
   ],
   "source": [
    "mdl.print_information()\n",
    "mdl.solve()\n",
    "mdl.solution.solve_details"
   ]
  },
  {
   "cell_type": "code",
   "execution_count": 9,
   "metadata": {
    "ExecuteTime": {
     "end_time": "2020-04-01T10:51:56.763222Z",
     "start_time": "2020-04-01T10:51:56.748097Z"
    }
   },
   "outputs": [
    {
     "name": "stdout",
     "output_type": "stream",
     "text": [
      "* model Scheduling solved with objective = 658.000\n",
      "*  KPI: Maximum # hours worked = 55.000\n",
      "*  KPI: Minimum # hours worked = 36.000\n"
     ]
    }
   ],
   "source": [
    "mdl.report()"
   ]
  },
  {
   "cell_type": "code",
   "execution_count": 10,
   "metadata": {
    "ExecuteTime": {
     "end_time": "2020-04-01T10:51:56.780082Z",
     "start_time": "2020-04-01T10:51:56.770297Z"
    }
   },
   "outputs": [
    {
     "data": {
      "text/plain": [
       "True"
      ]
     },
     "execution_count": 10,
     "metadata": {},
     "output_type": "execute_result"
    }
   ],
   "source": [
    "status = mdl.solve_details.status == 'integer optimal solution'\n",
    "status"
   ]
  },
  {
   "cell_type": "markdown",
   "metadata": {},
   "source": [
    "## Analysing the solution\n",
    "\n",
    "Below we provide simple tools to analyse the solution obtained"
   ]
  },
  {
   "cell_type": "code",
   "execution_count": 11,
   "metadata": {
    "ExecuteTime": {
     "end_time": "2020-04-01T10:51:56.798262Z",
     "start_time": "2020-04-01T10:51:56.784072Z"
    }
   },
   "outputs": [],
   "source": [
    "def x_star_to_pandas(x):\n",
    "    '''\n",
    "    takes in input the solution of the optimization problem as a dictionary \n",
    "    returns the solution as a dataframe \n",
    "    '''\n",
    "    sol = pd.DataFrame(columns = ['Nurse', 'Shift', 'Day'])\n",
    "    k = 0\n",
    "    for key, value in x.items():\n",
    "        if value>0:\n",
    "            sol.loc[k] =np.array([i for i in key])\n",
    "            k+=1\n",
    "    return sol"
   ]
  },
  {
   "cell_type": "code",
   "execution_count": 17,
   "metadata": {
    "ExecuteTime": {
     "end_time": "2020-04-01T10:51:57.216862Z",
     "start_time": "2020-04-01T10:51:56.802452Z"
    },
    "scrolled": true
   },
   "outputs": [
    {
     "data": {
      "text/html": [
       "<div>\n",
       "<style scoped>\n",
       "    .dataframe tbody tr th:only-of-type {\n",
       "        vertical-align: middle;\n",
       "    }\n",
       "\n",
       "    .dataframe tbody tr th {\n",
       "        vertical-align: top;\n",
       "    }\n",
       "\n",
       "    .dataframe thead th {\n",
       "        text-align: right;\n",
       "    }\n",
       "</style>\n",
       "<table border=\"1\" class=\"dataframe\">\n",
       "  <thead>\n",
       "    <tr style=\"text-align: right;\">\n",
       "      <th></th>\n",
       "      <th>Nurse</th>\n",
       "      <th>Shift</th>\n",
       "      <th>Day</th>\n",
       "    </tr>\n",
       "  </thead>\n",
       "  <tbody>\n",
       "    <tr>\n",
       "      <th>0</th>\n",
       "      <td>Nurse_0</td>\n",
       "      <td>Morning</td>\n",
       "      <td>Day_1</td>\n",
       "    </tr>\n",
       "    <tr>\n",
       "      <th>1</th>\n",
       "      <td>Nurse_0</td>\n",
       "      <td>Morning</td>\n",
       "      <td>Day_3</td>\n",
       "    </tr>\n",
       "    <tr>\n",
       "      <th>2</th>\n",
       "      <td>Nurse_0</td>\n",
       "      <td>Afternoon</td>\n",
       "      <td>Day_2</td>\n",
       "    </tr>\n",
       "    <tr>\n",
       "      <th>3</th>\n",
       "      <td>Nurse_0</td>\n",
       "      <td>Afternoon</td>\n",
       "      <td>Day_6</td>\n",
       "    </tr>\n",
       "    <tr>\n",
       "      <th>4</th>\n",
       "      <td>Nurse_0</td>\n",
       "      <td>Night</td>\n",
       "      <td>Day_4</td>\n",
       "    </tr>\n",
       "  </tbody>\n",
       "</table>\n",
       "</div>"
      ],
      "text/plain": [
       "     Nurse      Shift    Day\n",
       "0  Nurse_0    Morning  Day_1\n",
       "1  Nurse_0    Morning  Day_3\n",
       "2  Nurse_0  Afternoon  Day_2\n",
       "3  Nurse_0  Afternoon  Day_6\n",
       "4  Nurse_0      Night  Day_4"
      ]
     },
     "execution_count": 17,
     "metadata": {},
     "output_type": "execute_result"
    }
   ],
   "source": [
    "# transform the solution into a dataframe\n",
    "x_star_dict =mdl.solution.get_value_dict(x)\n",
    "sol_x = x_star_to_pandas(x_star_dict)\n",
    "sol_x.head()"
   ]
  },
  {
   "cell_type": "markdown",
   "metadata": {},
   "source": [
    "### How many hours does each nurse work over the period?"
   ]
  },
  {
   "cell_type": "code",
   "execution_count": 14,
   "metadata": {
    "ExecuteTime": {
     "end_time": "2020-04-01T10:51:57.260453Z",
     "start_time": "2020-04-01T10:51:57.221405Z"
    }
   },
   "outputs": [
    {
     "data": {
      "text/plain": [
       "{'Nurse_0': 39,\n",
       " 'Nurse_1': 37,\n",
       " 'Nurse_2': 52,\n",
       " 'Nurse_3': 53,\n",
       " 'Nurse_4': 39,\n",
       " 'Nurse_5': 46,\n",
       " 'Nurse_6': 40,\n",
       " 'Nurse_7': 47,\n",
       " 'Nurse_8': 40,\n",
       " 'Nurse_9': 55,\n",
       " 'Nurse_10': 42,\n",
       " 'Nurse_11': 53,\n",
       " 'Nurse_12': 40,\n",
       " 'Nurse_13': 39,\n",
       " 'Nurse_14': 36}"
      ]
     },
     "execution_count": 14,
     "metadata": {},
     "output_type": "execute_result"
    }
   ],
   "source": [
    "worked_hours = {n:0 for n in nurses}\n",
    "\n",
    "for i,j in sol_x.iterrows():\n",
    "    worked_hours[j['Nurse']]+=h[j['Shift']]\n",
    "worked_hours"
   ]
  },
  {
   "cell_type": "markdown",
   "metadata": {},
   "source": [
    "### Average of hours worked by day"
   ]
  },
  {
   "cell_type": "code",
   "execution_count": 15,
   "metadata": {
    "ExecuteTime": {
     "end_time": "2020-04-01T10:51:57.280573Z",
     "start_time": "2020-04-01T10:51:57.264442Z"
    },
    "scrolled": true
   },
   "outputs": [
    {
     "name": "stdout",
     "output_type": "stream",
     "text": [
      "Nurse_0 : 5.571428571428571\n",
      "Nurse_1 : 5.285714285714286\n",
      "Nurse_2 : 7.428571428571429\n",
      "Nurse_3 : 7.571428571428571\n",
      "Nurse_4 : 5.571428571428571\n",
      "Nurse_5 : 6.571428571428571\n",
      "Nurse_6 : 5.714285714285714\n",
      "Nurse_7 : 6.714285714285714\n",
      "Nurse_8 : 5.714285714285714\n",
      "Nurse_9 : 7.857142857142857\n",
      "Nurse_10 : 6.0\n",
      "Nurse_11 : 7.571428571428571\n",
      "Nurse_12 : 5.714285714285714\n",
      "Nurse_13 : 5.571428571428571\n",
      "Nurse_14 : 5.142857142857143\n"
     ]
    }
   ],
   "source": [
    "for i, j in worked_hours.items():\n",
    "    print(i,':',j/T)"
   ]
  },
  {
   "cell_type": "markdown",
   "metadata": {},
   "source": [
    "### Visualization tool\n",
    "\n",
    "Below we provide a tool to check the schedule. "
   ]
  },
  {
   "cell_type": "code",
   "execution_count": 16,
   "metadata": {
    "ExecuteTime": {
     "end_time": "2020-04-01T10:51:57.289713Z",
     "start_time": "2020-04-01T10:51:57.283567Z"
    }
   },
   "outputs": [],
   "source": [
    "# remove warning from pandas (in the viz_tool it does what we need)\n",
    "import warnings\n",
    "warnings.simplefilter(action='ignore')"
   ]
  },
  {
   "cell_type": "code",
   "execution_count": 18,
   "metadata": {
    "ExecuteTime": {
     "end_time": "2020-04-01T10:51:59.088133Z",
     "start_time": "2020-04-01T10:51:57.293668Z"
    }
   },
   "outputs": [
    {
     "data": {
      "application/vnd.jupyter.widget-view+json": {
       "model_id": "379aa1e09605499193a05c52e9e7aa74",
       "version_major": 2,
       "version_minor": 0
      },
      "text/plain": [
       "interactive(children=(Dropdown(description='nurse', index=15, options=('Nurse_0', 'Nurse_1', 'Nurse_2', 'Nurse…"
      ]
     },
     "metadata": {},
     "output_type": "display_data"
    }
   ],
   "source": [
    "\n",
    "def viz_tool(nurse,shift,day):\n",
    "    '''\n",
    "    interactive function to extract the information required:\n",
    "    if a value is 'All' then it returns all the values for that specific feature\n",
    "    '''\n",
    "    global nurses,S,days\n",
    "    \n",
    "    if nurse == 'All':\n",
    "        df_tmp = sol_x[(sol_x['Nurse'].isin(nurses))]\n",
    "    else:\n",
    "        df_tmp = sol_x[(sol_x['Nurse']==nurse)]\n",
    "\n",
    "    if shift == 'All':\n",
    "        df_tmp = df_tmp[(sol_x['Shift'].isin(S))]\n",
    "    else:\n",
    "        df_tmp = df_tmp[(sol_x['Shift']==shift)]\n",
    "\n",
    "    if day == 'All':\n",
    "        df_tmp = df_tmp[(sol_x['Day'].isin(days))]    \n",
    "    else:\n",
    "        df_tmp = df_tmp[(sol_x['Day']==day)]\n",
    "\n",
    "    print(df_tmp)\n",
    "\n",
    "interact(viz_tool, nurse = widgets.Dropdown(value=\"All\",placeholder='Type something', options=nurses+['All']),\n",
    "              shift=widgets.Dropdown(value='All',placeholder='Type something', options=S+['All']),\n",
    "              day = widgets.Dropdown(value=\"All\",placeholder='Type something', options=days+['All'])\n",
    "        );\n",
    "\n"
   ]
  }
 ],
 "metadata": {
  "kernelspec": {
   "display_name": "Python 3",
   "language": "python",
   "name": "python3"
  },
  "language_info": {
   "codemirror_mode": {
    "name": "ipython",
    "version": 3
   },
   "file_extension": ".py",
   "mimetype": "text/x-python",
   "name": "python",
   "nbconvert_exporter": "python",
   "pygments_lexer": "ipython3",
   "version": "3.7.8"
  },
  "toc": {
   "base_numbering": 1,
   "nav_menu": {},
   "number_sections": true,
   "sideBar": true,
   "skip_h1_title": true,
   "title_cell": "Table of Contents",
   "title_sidebar": "Contents",
   "toc_cell": false,
   "toc_position": {},
   "toc_section_display": true,
   "toc_window_display": true
  },
  "varInspector": {
   "cols": {
    "lenName": 16,
    "lenType": 16,
    "lenVar": 40
   },
   "kernels_config": {
    "python": {
     "delete_cmd_postfix": "",
     "delete_cmd_prefix": "del ",
     "library": "var_list.py",
     "varRefreshCmd": "print(var_dic_list())"
    },
    "r": {
     "delete_cmd_postfix": ") ",
     "delete_cmd_prefix": "rm(",
     "library": "var_list.r",
     "varRefreshCmd": "cat(var_dic_list()) "
    }
   },
   "types_to_exclude": [
    "module",
    "function",
    "builtin_function_or_method",
    "instance",
    "_Feature"
   ],
   "window_display": false
  }
 },
 "nbformat": 4,
 "nbformat_minor": 4
}
