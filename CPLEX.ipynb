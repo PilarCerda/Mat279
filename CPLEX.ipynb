{
 "cells": [
  {
   "cell_type": "code",
   "execution_count": null,
   "metadata": {},
   "outputs": [],
   "source": [
    "import numpy as np\n",
    "try:\n",
    "    from docplex.mp.model import Model\n",
    "except:\n",
    "    !pip install docplex\n",
    "from docplex.mp.model import Model\n",
    "\n",
    "import pandas as pd\n",
    "\n",
    "try:\n",
    "    import ipywidgets\n",
    "except:\n",
    "    !pip install ipywidgets\n",
    "from ipywidgets import interact\n",
    "import ipywidgets as widgets\n",
    "import time"
   ]
  },
  {
   "cell_type": "markdown",
   "metadata": {},
   "source": [
    "# Cotas de restricciones"
   ]
  },
  {
   "cell_type": "code",
   "execution_count": null,
   "metadata": {},
   "outputs": [],
   "source": [
    "# Numero de enfermeras\n",
    "N = 15 #dato arbitrario\n",
    "nurses = ['Enfermera_' +str(n) for n in range(N)]\n",
    "# periodo de días que queremos agendar\n",
    "T = 7 #una semana\n",
    "days = ['Dia_' +str(t) for t in range(T)]\n",
    "# Turnos asumiendo 3 tipos de turnos\n",
    "S = ['Mañana', 'Tarde', 'Noche']\n",
    "# numero de enferrmeras requerido por turno\n",
    "R = {'Mañana' : 5,\n",
    "     'Tarde' : 4,\n",
    "     'Noche' : 3}\n",
    "# Pesos asignados a cada turno\n",
    "W = {'Mañana' : 10,\n",
    "     'Tarde' : 10,\n",
    "     'Noche' : 10}"
   ]
  },
  {
   "cell_type": "code",
   "execution_count": null,
   "metadata": {},
   "outputs": [],
   "source": [
    "# Variables temporales que podrían arreglar el trabajo de ciertos datos\n",
    "days2 = ['Dia_' +str(t+1) for t in range(T-1)]\n",
    "days3 = ['Dia_' +str(t) for t in range(6)]"
   ]
  },
  {
   "cell_type": "code",
   "execution_count": null,
   "metadata": {},
   "outputs": [],
   "source": [
    "mdl = Model('Scheduling')\n",
    "# Creación de variables\n",
    "idx_x = [(i,s,t) for i in nurses for s in S for t in days]\n",
    "idd=[(s) for s in S]\n",
    "x = mdl.binary_var_dict(idx_x) #Diccionario con días, nombre de personal y turno correspondiente\n",
    "D_dif = mdl.continuous_var #Diferencia entre el máximo y mínimo de turnos de día trabajados\n",
    "E_dif = mdl.continuous_var #Diferencia entre el máximo y mínimo de turnos de tarde trabajados\n",
    "N_dif = mdl.continuous_var #Diferencia entre el máximo y mínimo de turnos nocturnos trabajados\n",
    "O_dif = mdl.continuous_var #Diferencia entre el máximo y mínimo de días libres\n",
    "mini = mdl.continuous_var_dict(idd) #Numero mínimo de turnos s asignados a las enfermeras en el calendario\n",
    "maxi = mdl.continuous_var_dict(idd) #Numero máximo de turnos s asignados a las enfermeras en el calendario"
   ]
  },
  {
   "cell_type": "markdown",
   "metadata": {},
   "source": [
    "# Función objetivo"
   ]
  },
  {
   "cell_type": "markdown",
   "metadata": {},
   "source": [
    "\\begin{equation*}\n",
    "\\begin{aligned}\n",
    "& \\underset{x_{ist}\\in\\{0,1\\}}{\\text{min}}(\\sum _{s \\in S }(( \\underset{i \\in 0,1,\\ldots , N}{\\max}\\sum_{t=1}^T x_{ist}-\\underset{i \\in 0,1,\\ldots , N}{\\min}\\sum_{t=1}^T x_{ist})\\cdot W(s)))\\\\\n",
    "\\end{aligned}\n",
    "\\end{equation*}"
   ]
  },
  {
   "cell_type": "code",
   "execution_count": null,
   "metadata": {},
   "outputs": [],
   "source": [
    "mdl.minimize(mdl.sum(maxi[s]-mini[s]*W[s] for s in S)) #Intento tipo 1 minimizar diferencia entre maximos y minimos con peso\n",
    "#mdl.minimize(mdl.sum(x[i,s,t]*W[s] for i in nurses for s in S for t in days))#Intento tipo 1 minimizar diferencia entre maximos y minimos con peso"
   ]
  },
  {
   "cell_type": "markdown",
   "metadata": {},
   "source": [
    "# Restricciones"
   ]
  },
  {
   "cell_type": "code",
   "execution_count": null,
   "metadata": {},
   "outputs": [],
   "source": [
    "#El perrsonal no puede tener más de un turno al día\n",
    "mdl.add_constraints(mdl.sum(x[i,s,t] for s in S) <= 1 for i in nurses for t in days);\n",
    "#Se cumple con tener el personal asignado para cada turno del día\n",
    "mdl.add_constraints(mdl.sum(x[i,s,t] for i in nurses)>= R[s]  for s in S for t in days);\n",
    "#No se trabaja un día si se trabaja una noche el día anterior.\n",
    "mdl.add_constraints(mdl.sum(x[i,'Mañana',t] for i in nurses for t in days)-1 <= x[i,'Noche',t] for i in nurses for t in days2);\n",
    "#Cada integrante del personal no trabaja más de una cantidad especifica de noches\n",
    "mdl.add_constraints( mdl.sum(x[i,'Noche',t] for i in nurses)<= 6 for t in days ); #Falta implementar que no sea en días consecutivos"
   ]
  },
  {
   "cell_type": "code",
   "execution_count": null,
   "metadata": {},
   "outputs": [],
   "source": [
    "mdl.print_information()\n",
    "mdl.solve()\n",
    "mdl.solution.solve_details #Codigo inconcluso."
   ]
  },
  {
   "cell_type": "code",
   "execution_count": null,
   "metadata": {},
   "outputs": [],
   "source": [
    "mdl.report()"
   ]
  },
  {
   "cell_type": "code",
   "execution_count": null,
   "metadata": {},
   "outputs": [],
   "source": [
    "status = mdl.solve_details.status == 'integer optimal solution'\n",
    "status"
   ]
  },
  {
   "cell_type": "markdown",
   "metadata": {},
   "source": [
    "## Analysing the solution\n",
    "\n",
    "Below we provide simple tools to analyse the solution obtained"
   ]
  },
  {
   "cell_type": "code",
   "execution_count": null,
   "metadata": {},
   "outputs": [],
   "source": [
    "def x_star_to_pandas(x):\n",
    "    '''\n",
    "    takes in input the solution of the optimization problem as a dictionary \n",
    "    returns the solution as a dataframe \n",
    "    '''\n",
    "    sol = pd.DataFrame(columns = ['Nurse', 'Shift', 'Day'])\n",
    "    k = 0\n",
    "    for key, value in x.items():\n",
    "        if value>0:\n",
    "            sol.loc[k] =np.array([i for i in key])\n",
    "            k+=1\n",
    "    return sol"
   ]
  },
  {
   "cell_type": "code",
   "execution_count": null,
   "metadata": {},
   "outputs": [],
   "source": [
    "# transform the solution into a dataframe\n",
    "x_star_dict =mdl.solution.get_value_dict(x)\n",
    "sol_x = x_star_to_pandas(x_star_dict)\n",
    "sol_x.head()"
   ]
  },
  {
   "cell_type": "markdown",
   "metadata": {},
   "source": [
    "### Visualization tool\n",
    "\n",
    "Below we provide a tool to check the schedule. "
   ]
  },
  {
   "cell_type": "code",
   "execution_count": null,
   "metadata": {},
   "outputs": [],
   "source": [
    "# remove warning from pandas (in the viz_tool it does what we need)\n",
    "import warnings\n",
    "warnings.simplefilter(action='ignore')"
   ]
  },
  {
   "cell_type": "code",
   "execution_count": null,
   "metadata": {},
   "outputs": [],
   "source": [
    "\n",
    "def viz_tool(nurse,shift,day):\n",
    "    '''\n",
    "    interactive function to extract the information required:\n",
    "    if a value is 'All' then it returns all the values for that specific feature\n",
    "    '''\n",
    "    global nurses,S,days\n",
    "    \n",
    "    if nurse == 'All':\n",
    "        df_tmp = sol_x[(sol_x['Nurse'].isin(nurses))]\n",
    "    else:\n",
    "        df_tmp = sol_x[(sol_x['Nurse']==nurse)]\n",
    "\n",
    "    if shift == 'All':\n",
    "        df_tmp = df_tmp[(sol_x['Shift'].isin(S))]\n",
    "    else:\n",
    "        df_tmp = df_tmp[(sol_x['Shift']==shift)]\n",
    "\n",
    "    if day == 'All':\n",
    "        df_tmp = df_tmp[(sol_x['Day'].isin(days))]    \n",
    "    else:\n",
    "        df_tmp = df_tmp[(sol_x['Day']==day)]\n",
    "\n",
    "    print(df_tmp)\n",
    "\n",
    "interact(viz_tool, nurse = widgets.Dropdown(value=\"All\",placeholder='Type something', options=nurses+['All']),\n",
    "              shift=widgets.Dropdown(value='All',placeholder='Type something', options=S+['All']),\n",
    "              day = widgets.Dropdown(value=\"All\",placeholder='Type something', options=days+['All'])\n",
    "        );\n"
   ]
  }
 ],
 "metadata": {
  "kernelspec": {
   "display_name": "Python 3",
   "language": "python",
   "name": "python3"
  },
  "language_info": {
   "codemirror_mode": {
    "name": "ipython",
    "version": 3
   },
   "file_extension": ".py",
   "mimetype": "text/x-python",
   "name": "python",
   "nbconvert_exporter": "python",
   "pygments_lexer": "ipython3",
   "version": "3.7.8"
  }
 },
 "nbformat": 4,
 "nbformat_minor": 4
}
